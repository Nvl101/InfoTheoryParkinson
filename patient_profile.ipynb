{
 "cells": [
  {
   "cell_type": "markdown",
   "metadata": {},
   "source": [
    "# AMP-PD Clinical Data Analysis\n",
    "Pattern-feature based patient profiles\n",
    "\n",
    "Cluster patient profiles according to:\n",
    "- Plateau length on 4 dimensions\n",
    "- Slope on 4 dimensions\n",
    "\n"
   ]
  }
 ],
 "metadata": {
  "language_info": {
   "name": "python"
  }
 },
 "nbformat": 4,
 "nbformat_minor": 2
}
