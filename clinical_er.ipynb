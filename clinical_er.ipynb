{
 "cells": [
  {
   "cell_type": "markdown",
   "metadata": {},
   "source": [
    "# AMP-PD Clinical Data Analysis\n",
    "Entropy Rate (ER) of single and multi dimensions of UPDRS dimensions. The ER shows average amount of entropy increase following after each new sample data added.\n",
    "\n",
    "- calculate ER of UPDRS-1 score for a sample patient\n",
    "- calculate ER of UPDRS-1,2,3,4 for all patients, separately in 4 dimensions\n",
    "- calculate ER of UPDRS-1,2,3,4 combined, for all patients"
   ]
  },
  {
   "cell_type": "code",
   "execution_count": 1,
   "metadata": {},
   "outputs": [],
   "source": [
    "import os\n",
    "import numpy as np\n",
    "import pandas as pd\n",
    "from preprocessing.paths import pointwise_features_path, jarLocation\n",
    "from infotheory import *\n",
    "import jpype\n",
    "\n",
    "\n",
    "# check java location\n",
    "assert os.path.isfile(jarLocation)\n",
    "# start JVM\n",
    "if (not jpype.isJVMStarted()):\n",
    "    # Start the JVM (add the \"-Xmx\" option with say 1024M if you get crashes due to not enough memory space)\n",
    "    jpype.startJVM(jpype.getDefaultJVMPath(), \"-ea\", \"-Djava.class.path=\" + jarLocation, convertStrings=True)"
   ]
  },
  {
   "cell_type": "markdown",
   "metadata": {},
   "source": [
    "## Imports and data loading\n",
    "\n",
    "The Entropy Rate analysis uses pointwise propagation speed of UPDRS development in 4 UPDRS dimensions.\n",
    "\n",
    "Load pointwise processed data, with propagation speed calculated using following equation. $u$ denotes UPDRS score in any dimensions $\\{1,2,3,4\\}$, and $m$ denotes month number.\n",
    "\n",
    "$${propagation\\ speed} = \\frac{u_{curr} - u_{prev}}{m_{curr} - m_{prev}}$$"
   ]
  },
  {
   "cell_type": "code",
   "execution_count": null,
   "metadata": {},
   "outputs": [],
   "source": [
    "# whole pointwise dataset\n",
    "df_pointwise = pd.read_csv(pointwise_features_path)\n",
    "# grouped by patient ids for info theory calculations\n",
    "df_pointwise_group = df_pointwise.groupby('patient_id')\n",
    "# sample patient profile \n",
    "df_pointwise_55 = df_pointwise[df_pointwise['patient_id']==55]\n",
    "df_pointwise_55 = df_pointwise_55[['month']+[f'updrs_{i}_dt' for i in (1,2,3,4)]]\n",
    "df_pointwise_55 = df_pointwise_55.bfill()\n",
    "# show samples of pointwise dataset\n",
    "df_pointwise.head(3)\n"
   ]
  },
  {
   "cell_type": "markdown",
   "metadata": {},
   "source": [
    "## Single-dimensional entropy rate\n",
    "\n",
    "Entropy rate of single dimensional UPDRS propagation rate (score per month), for a single patient. Uses calculations as follows:\n",
    "\n",
    "$$\n",
    "H(X_n|x_{n-1}^{(k)}) = H(X_{n-k-1}, \\dots, X_{n-1}, X_{n}) - H(X_{n-k-1}, \\dots, X_{n-1})\n",
    "$$"
   ]
  },
  {
   "cell_type": "markdown",
   "metadata": {},
   "source": [
    "JIDT currently do not provide code generator for multivariate Joint Entropy, use Gaussian Estimator instead."
   ]
  },
  {
   "cell_type": "markdown",
   "metadata": {},
   "source": [
    "Function below uses Gaussian Estimator to make estimates of Joint Entropy for n arrays $H(x_{1}, x_{2}, \\dots , x_{n})$ , with the assumption that $x \\in \\mathbb{R}^{D}$ follows normal distribution in $D$ dimensions, i.e. $x \\sim N_{D}(\\mu, \\Sigma)$, where:\n",
    "\n",
    "$\\Sigma_{i,j} = {Cov}[x_i, x_j]$ , and\n",
    "\n",
    "$H(x) = \\frac{D}{2}(1+\\log{(2\\pi)}) + \\frac{1}{2}\\log{|\\Sigma|}$"
   ]
  },
  {
   "cell_type": "code",
   "execution_count": 3,
   "metadata": {},
   "outputs": [],
   "source": [
    "# functions moved to infotheory.py\n",
    "from infotheory import *"
   ]
  },
  {
   "cell_type": "code",
   "execution_count": 35,
   "metadata": {},
   "outputs": [
    {
     "name": "stdout",
     "output_type": "stream",
     "text": [
      "base: -3.194356576846456\n",
      "displacement: 107.20402877299438\n",
      "base + 15 variance: -34.58780105536158\n",
      "base + 3 variance: -11.130524120182606\n",
      "base + 1 variance: -4.162999414338195\n",
      "base + 0.5 variance: 12.146791353546895\n",
      "base + 0.1 variance: 27.418708899923075\n",
      "base + 0.01 variance: 57.70825085766407\n",
      "base + 0.001 variance: 81.42871372156247\n",
      "base + 0.0001 variance: 110.77604003016569\n",
      "base + 1e-05 variance: -3.1943752272543193\n"
     ]
    }
   ],
   "source": [
    "# poc: np.ndarray covariance between rows\n",
    "\n",
    "# Example 2-dimensional array\n",
    "# data = np.array([[1, 1.5, 3], [6, 3, 4], [7, 3, 8]])\n",
    "array_length = 21\n",
    "# base = np.sin(np.linspace(0, 2 * np.pi, array_length))\n",
    "base = np.linspace(0, 2 * np.pi, array_length)\n",
    "# shift_array(test_array, 3)\n",
    "base_er = entropy_rate(base)\n",
    "print('base:', base_er)\n",
    "displacement_er = entropy_rate(displacement)\n",
    "print('displacement:', displacement_er)\n",
    "for factor in (15, 3, 1, 0.5, 0.1, 0.01, 0.001, 0.0001, 0.00001):\n",
    "    fluctuation = np.random.normal(0, factor, size=array_length)\n",
    "    displacement = np.cumsum(fluctuation)\n",
    "    test_array = base + displacement\n",
    "    er = entropy_rate(test_array)\n",
    "    print(f'base + {factor} variance:', er)\n"
   ]
  },
  {
   "cell_type": "code",
   "execution_count": 4,
   "metadata": {},
   "outputs": [
    {
     "name": "stdout",
     "output_type": "stream",
     "text": [
      "intercept -1.5978597987414354\n"
     ]
    },
    {
     "data": {
      "text/plain": [
       "Text(0, 0.5, 'ER (nats)')"
      ]
     },
     "execution_count": 4,
     "metadata": {},
     "output_type": "execute_result"
    },
    {
     "data": {
      "image/png": "[encoded data removed]",
      "text/plain": [
       "<Figure size 640x480 with 1 Axes>"
      ]
     },
     "metadata": {},
     "output_type": "display_data"
    }
   ],
   "source": [
    "from sklearn.linear_model import LinearRegression\n",
    "import matplotlib.pyplot as plt\n",
    "\n",
    "updrs_spd = df_pointwise_55[f\"updrs_1_dt\"]\n",
    "updrs_spd = updrs_spd[updrs_spd.notna()]\n",
    "k_values = np.arange(3, 12, 1)\n",
    "er_values = []\n",
    "for k in k_values:\n",
    "    er = entropy_rate(updrs_spd, k=int(k))\n",
    "    er_values.append(er)\n",
    "plt.scatter(k_values, er_values)\n",
    "lr = LinearRegression()\n",
    "lr.fit(k_values.reshape(-1, 1), np.array(er_values))\n",
    "x = np.arange(0, 12, 0.1).reshape(-1, 1)\n",
    "y = lr.predict(x)\n",
    "print(\"intercept\", lr.intercept_)\n",
    "plt.plot(x,y, '--')\n",
    "plt.xlabel('k history')\n",
    "plt.ylabel('ER (nats)')"
   ]
  },
  {
   "cell_type": "code",
   "execution_count": 6,
   "metadata": {},
   "outputs": [
    {
     "name": "stdout",
     "output_type": "stream",
     "text": [
      "mean intercepts updrs-1: -1.4373657476936486\n",
      "mean intercepts updrs-2: -1.6326129323179401\n",
      "mean intercepts updrs-3: -4.210736766092582\n",
      "mean intercepts updrs-4: 0.0\n"
     ]
    }
   ],
   "source": [
    "from sklearn.linear_model import LinearRegression\n",
    "import matplotlib.pyplot as plt\n",
    "\n",
    "for i in (1,2,3,4):\n",
    "    sample_patients = df_pointwise['patient_id'].sample(20)\n",
    "    df_patients = [\n",
    "        df_pointwise[df_pointwise['patient_id'] == patient_id]\n",
    "        for patient_id in sample_patients]\n",
    "    intercepts = []\n",
    "    for df_patient in df_patients:\n",
    "        updrs_spd = df_pointwise_55[f\"updrs_{i}_dt\"]\n",
    "        updrs_spd = updrs_spd[updrs_spd.notna()]\n",
    "        k_values = np.arange(3, 9, 1)\n",
    "        er_values = []\n",
    "        for k in k_values:\n",
    "            er = entropy_rate(updrs_spd, k=int(k))\n",
    "            er_values.append(er)\n",
    "        lr = LinearRegression()\n",
    "        lr.fit(k_values.reshape(-1, 1), np.array(er_values))\n",
    "        x = np.arange(0, 12, 0.1).reshape(-1, 1)\n",
    "        y = lr.predict(x)\n",
    "        intercepts.append(lr.intercept_)\n",
    "    print(f'mean intercepts updrs-{i}:', np.mean(intercepts))"
   ]
  },
  {
   "cell_type": "code",
   "execution_count": 74,
   "metadata": {},
   "outputs": [
    {
     "data": {
      "text/plain": [
       "array([[ 3],\n",
       "       [ 4],\n",
       "       [ 5],\n",
       "       [ 6],\n",
       "       [ 7],\n",
       "       [ 8],\n",
       "       [ 9],\n",
       "       [10],\n",
       "       [11]])"
      ]
     },
     "execution_count": 74,
     "metadata": {},
     "output_type": "execute_result"
    }
   ],
   "source": [
    "k_values.reshape(-1, 1)"
   ]
  },
  {
   "cell_type": "code",
   "execution_count": 64,
   "metadata": {},
   "outputs": [
    {
     "name": "stdout",
     "output_type": "stream",
     "text": [
      "updrs 1: 13.34497436753021\n",
      "updrs 2: 16.928050191659622\n",
      "updrs 3: 4.544776264543545\n",
      "updrs 4: 0.0\n"
     ]
    }
   ],
   "source": [
    "for i in (1,2,3,4):\n",
    "    updrs_spd = df_pointwise_55[f\"updrs_{i}_dt\"]\n",
    "    updrs_spd = updrs_spd[updrs_spd.notna()]\n",
    "    er = entropy_rate(updrs_spd, k=5)\n",
    "    print(f'updrs {i}:', er)"
   ]
  },
  {
   "cell_type": "code",
   "execution_count": null,
   "metadata": {},
   "outputs": [
    {
     "data": {
      "text/plain": [
       "<matplotlib.collections.PathCollection at 0x1ce095b1f50>"
      ]
     },
     "execution_count": 81,
     "metadata": {},
     "output_type": "execute_result"
    },
    {
     "data": {
      "image/png": "[encoded data removed]",
      "text/plain": [
       "<Figure size 640x480 with 1 Axes>"
      ]
     },
     "metadata": {},
     "output_type": "display_data"
    }
   ],
   "source": [
    "updrs_spd = df_pointwise_55[f\"updrs_1_dt\"]\n",
    "updrs_spd = updrs_spd[updrs_spd.notna()]\n",
    "k_values = np.arange(3, 36, 1)\n",
    "er_values = []\n",
    "for k in k_values:\n",
    "    er = entropy_rate(updrs_spd, k=int(k))\n",
    "    er_values.append(er)\n",
    "plt.scatter(k_values, er_values)\n",
    "plt.xlabel()"
   ]
  },
  {
   "cell_type": "code",
   "execution_count": 82,
   "metadata": {},
   "outputs": [
    {
     "data": {
      "text/plain": [
       "98.9718090745323"
      ]
     },
     "execution_count": 82,
     "metadata": {},
     "output_type": "execute_result"
    }
   ],
   "source": [
    "max(er_values)"
   ]
  }
 ],
 "metadata": {
  "kernelspec": {
   "display_name": "Python 3",
   "language": "python",
   "name": "python3"
  },
  "language_info": {
   "codemirror_mode": {
    "name": "ipython",
    "version": 3
   },
   "file_extension": ".py",
   "mimetype": "text/x-python",
   "name": "python",
   "nbconvert_exporter": "python",
   "pygments_lexer": "ipython3",
   "version": "3.11.9"
  }
 },
 "nbformat": 4,
 "nbformat_minor": 2
}
